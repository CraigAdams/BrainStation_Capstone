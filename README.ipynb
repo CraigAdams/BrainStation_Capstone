{
 "cells": [
  {
   "cell_type": "markdown",
   "id": "5ff4b969",
   "metadata": {},
   "source": [
    "# \n",
    "\n",
    "# Picking the Best Predictive Model:  A Case Study in Analytics Operationalization \n",
    "\n",
    "## README \n",
    "\n",
    "### Author: Craig Adams\n",
    "#### Contact: craig.adams@elementaryinsights.com\n",
    "#### Date: July 5, 2022\n",
    "\n",
    "### Introduction\n",
    "The goal of this study was to explore the development of different analytical solutions for a particular business problem, ranging from the simplest techniques to more complex ML models.  Through the exploration, the aim was to evaluate model performances from a technical perspective such as prediction accuracy and from a business perspective in terms of impact on business KPIs and the relative costs of model development and operationalization.\n",
    "The project is divided into four parts:\n",
    "**Part 1. Introduction and Exploratory Data Analysis**:  Ingests the case study NASA train_FD001.txt file and explores the data to understand how it relates to the problem at hand.  A cleaned dataset is generated at the end which is used in Parts 2 and 3.\n",
    "**Part 2. Statistical Analysis and Modeling**:  Explores options to predict the failures before the end of life using Statistical methods.  The file can be run independently if required.\n",
    "**Part 3. Machine Learn Modeling of Remaining Useful Life**:  Explores options to predict the failures before the end of life using Machine Learning algorithms respectively.  A file called “failure_test_with_models_threshold10.csv” is generated for use in Part 4 and the companion app.\n",
    "**Part 4. Assessment of Predictive Model Performance**: Compares and summarized the performances of the successful models for both technical and business perspectives as well as summarizes learnings from the modeling exercises.    \n",
    "\n",
    "#### Notebooks\n",
    "•\tCraig_Adams_Capstone_Part_1.ipynb\n",
    "•\tCraig_Adams_Capstone_Part_2.ipynb\n",
    "•\tCraig_Adams_Capstone_Part_3.ipynb\n",
    "•\tCraig_Adams_Capstone_Part_4.ipynb\n",
    "\n",
    "#### Scripts\n",
    "•\tCraig_Adams_Capstone_Engine_Efficiency_app.py\n",
    "\n",
    "#### Input and Output Files\n",
    "•\t“train_FD001.txt” – source data from NASA\n",
    "•\t“failure_cleaned.csv” – intermediate file generated in Part 1.\n",
    "•\t“failure_test_with_models_threshold10.csv” – processed data file generated at the end of Part 3 for use in Part 4 and in the app\n",
    "\n",
    "#### Required Environments\n",
    "The Jupyter notebooks and the script all run on the same environment, named csadams in the example below.\n",
    "\n",
    "    - conda create -n csadams python=3.8 numpy pandas matplotlib seaborn statsmodels scikit-learn=0.24.1 jupyter jupyterlab\n",
    "    - pip install statistics\n",
    "    - pip install dash\n",
    " \n",
    "The dash installation overwrites the initial plotly installation to some degree.  Detailed instructions can be found here: https://dash.plotly.com/installation\n",
    "\n",
    "#### Running the App\n",
    "The web application can be launched from a code editor.  When launched, there should be a URL to cut and paste into your web browser, e.g //127.0.0.1:8088 to visualize the app.\n",
    " \n",
    "At times, there can be port conflicts.  The port can be updated to a different number, e.g. 8050, \n",
    "if needed at the bottom of the .py script before being re-run.\n"
   ]
  },
  {
   "cell_type": "code",
   "execution_count": null,
   "id": "1fc7763b",
   "metadata": {},
   "outputs": [],
   "source": []
  }
 ],
 "metadata": {
  "kernelspec": {
   "display_name": "csadams",
   "language": "python",
   "name": "csadams"
  },
  "language_info": {
   "codemirror_mode": {
    "name": "ipython",
    "version": 3
   },
   "file_extension": ".py",
   "mimetype": "text/x-python",
   "name": "python",
   "nbconvert_exporter": "python",
   "pygments_lexer": "ipython3",
   "version": "3.8.13"
  }
 },
 "nbformat": 4,
 "nbformat_minor": 5
}
